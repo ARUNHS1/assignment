{
 "cells": [
  {
   "cell_type": "markdown",
   "metadata": {},
   "source": [
    "Q 1 : Note : The Fibonacci Sequence is the series of numbers :\n",
    "\n",
    "0, 1, 1, 2, 3, 5, 8, 13, 21, ....\n",
    "\n",
    "Every next number is found by adding up the two numbers before it.\n",
    "\n",
    "Expected Output : 1 1 2 3 5 8 13 21 34"
   ]
  },
  {
   "cell_type": "code",
   "execution_count": 7,
   "metadata": {},
   "outputs": [
    {
     "name": "stdout",
     "output_type": "stream",
     "text": [
      "0\n",
      "1\n",
      "1\n",
      "2\n",
      "3\n",
      "5\n",
      "8\n",
      "13\n",
      "21\n",
      "34\n"
     ]
    }
   ],
   "source": [
    "n =10\n",
    "\n",
    "\n",
    "seed1 =0\n",
    "seed2 =1\n",
    "if n ==2:\n",
    "    print(seed1)\n",
    "    print(seed2)\n",
    "else:\n",
    "    print(seed1)\n",
    "    print(seed2)\n",
    "\n",
    "\n",
    "\n",
    "for i in range(n-2):\n",
    "    next_seed = seed1 + seed2\n",
    "    print(next_seed)\n",
    "    seed1 = seed2\n",
    "    seed2 = next_seed"
   ]
  },
  {
   "cell_type": "markdown",
   "metadata": {},
   "source": [
    "Q 2: Write a Python program that accepts a word from the user and reverse it.\n",
    "\n",
    "Sample Test Case\n",
    "\n",
    "Input : Edyoda\n",
    "\n",
    "output: adoydE"
   ]
  },
  {
   "cell_type": "code",
   "execution_count": 4,
   "metadata": {},
   "outputs": [
    {
     "name": "stdout",
     "output_type": "stream",
     "text": [
      "input: Edyoda\n",
      "output: adoydE \n"
     ]
    }
   ],
   "source": [
    "def reverse(s):\n",
    "    str = \" \"\n",
    "    for i in s:\n",
    "        str = i + str\n",
    "    return str\n",
    "s = \"Edyoda\"\n",
    "\n",
    "print(\"input:\",end = \" \")\n",
    "print(s)\n",
    "print(\"output:\",end =\" \")\n",
    "print(reverse(s))\n"
   ]
  },
  {
   "cell_type": "markdown",
   "metadata": {},
   "source": [
    "Q 3: Write a Python program to count the number of even and odd numbers from a series of numbers.\n",
    "\n",
    "Sample numbers : numbers = (1, 2, 3, 4, 5, 6, 7, 8, 9) \n",
    "\n",
    "Expected Output :\n",
    "\n",
    "Number of even numbers : 4\n",
    "\n",
    "Number of odd numbers : 5"
   ]
  },
  {
   "cell_type": "code",
   "execution_count": 8,
   "metadata": {},
   "outputs": [
    {
     "name": "stdout",
     "output_type": "stream",
     "text": [
      "Number of even numbers: 4\n",
      "Number of odd numbers: 5\n"
     ]
    }
   ],
   "source": [
    "list1 = [1,2,3,4,5,6,7,8,9]\n",
    "\n",
    "even_count,odd_count =0,0\n",
    "\n",
    "for num in list1:\n",
    "\n",
    "    if num %2 ==0:\n",
    "        even_count += 1\n",
    "    else:\n",
    "        odd_count += 1\n",
    "print(\"Number of even numbers:\", even_count)\n"
   ]
  },
  {
   "cell_type": "code",
   "execution_count": null,
   "metadata": {},
   "outputs": [],
   "source": []
  }
 ],
 "metadata": {
  "kernelspec": {
   "display_name": "Python 3",
   "language": "python",
   "name": "python3"
  },
  "language_info": {
   "codemirror_mode": {
    "name": "ipython",
    "version": 3
   },
   "file_extension": ".py",
   "mimetype": "text/x-python",
   "name": "python",
   "nbconvert_exporter": "python",
   "pygments_lexer": "ipython3",
   "version": "3.12.0"
  }
 },
 "nbformat": 4,
 "nbformat_minor": 2
}
